{
  "nbformat": 4,
  "nbformat_minor": 0,
  "metadata": {
    "colab": {
      "name": "assignment1",
      "provenance": [],
      "authorship_tag": "ABX9TyPELRMjQOGgWJUhfBe0lPM4",
      "include_colab_link": true
    },
    "kernelspec": {
      "name": "python3",
      "display_name": "Python 3"
    }
  },
  "cells": [
    {
      "cell_type": "markdown",
      "metadata": {
        "id": "view-in-github",
        "colab_type": "text"
      },
      "source": [
        "<a href=\"https://colab.research.google.com/github/DongaNiharika14/7047/blob/master/assignment1.ipynb\" target=\"_parent\"><img src=\"https://colab.research.google.com/assets/colab-badge.svg\" alt=\"Open In Colab\"/></a>"
      ]
    },
    {
      "cell_type": "code",
      "metadata": {
        "id": "0oUcBaEEZi5G",
        "colab_type": "code",
        "colab": {
          "base_uri": "https://localhost:8080/",
          "height": 136
        },
        "outputId": "d9ff3b42-b9ca-4acb-c25b-604077a56346"
      },
      "source": [
        "#calculator of operators\n",
        "a=5\n",
        "b=7\n",
        "print(a+b)\n",
        "print(a-b)\n",
        "print(a*b)\n",
        "print(a/b)\n",
        "print(a%b)\n",
        "print(a**b)\n",
        "print(a//b)\n"
      ],
      "execution_count": 1,
      "outputs": [
        {
          "output_type": "stream",
          "text": [
            "12\n",
            "-2\n",
            "35\n",
            "0.7142857142857143\n",
            "5\n",
            "78125\n",
            "0\n"
          ],
          "name": "stdout"
        }
      ]
    },
    {
      "cell_type": "code",
      "metadata": {
        "id": "EUW0mulhbNzk",
        "colab_type": "code",
        "colab": {
          "base_uri": "https://localhost:8080/",
          "height": 51
        },
        "outputId": "f03c2119-fe59-403c-c321-cce9824f504f"
      },
      "source": [
        "#area of circle\n",
        "r=float(input(\"enter the value of radius\"))\n",
        "pi=3.14\n",
        "A=pi*r*r\n",
        "print(A)"
      ],
      "execution_count": 2,
      "outputs": [
        {
          "output_type": "stream",
          "text": [
            "enter the value of radius9\n",
            "254.34\n"
          ],
          "name": "stdout"
        }
      ]
    },
    {
      "cell_type": "code",
      "metadata": {
        "id": "-Q1BjPeseW9c",
        "colab_type": "code",
        "colab": {
          "base_uri": "https://localhost:8080/",
          "height": 68
        },
        "outputId": "ccc79789-747f-4f7e-8f94-b3cc8a759403"
      },
      "source": [
        "#area of rectangle\n",
        "l=float(input(\"enter the value of length\"))\n",
        "b=float(input(\"enter the value of breadth\"))\n",
        "A=l*b\n",
        "print(A)"
      ],
      "execution_count": 3,
      "outputs": [
        {
          "output_type": "stream",
          "text": [
            "enter the value of length4\n",
            "enter the value of base6\n",
            "24.0\n"
          ],
          "name": "stdout"
        }
      ]
    },
    {
      "cell_type": "code",
      "metadata": {
        "id": "nsX8rUMte8hH",
        "colab_type": "code",
        "colab": {
          "base_uri": "https://localhost:8080/",
          "height": 68
        },
        "outputId": "a2e8445e-cbf3-4247-ebf9-a939b354f66f"
      },
      "source": [
        "#area of triangle\n",
        "h=float(input(\"enter the value of heigth\"))\n",
        "b=float(input(\"enter the value of base\"))\n",
        "A=(h*b)/2\n",
        "print(A)"
      ],
      "execution_count": 4,
      "outputs": [
        {
          "output_type": "stream",
          "text": [
            "enter the value of heigth9\n",
            "enter the value of base2.6\n",
            "11.700000000000001\n"
          ],
          "name": "stdout"
        }
      ]
    },
    {
      "cell_type": "code",
      "metadata": {
        "id": "O8MfyUUAfgpz",
        "colab_type": "code",
        "colab": {
          "base_uri": "https://localhost:8080/",
          "height": 51
        },
        "outputId": "763fe6d9-25a7-4ecf-dde8-195ba836603f"
      },
      "source": [
        "#temperature from celsius to fahrenheit\n",
        "celsius=float(input(\"enter the value\"))\n",
        "fahrenheit=(celsius*1.8)+32\n",
        "print(fahrenheit)"
      ],
      "execution_count": 5,
      "outputs": [
        {
          "output_type": "stream",
          "text": [
            "enter the value25.8\n",
            "78.44\n"
          ],
          "name": "stdout"
        }
      ]
    },
    {
      "cell_type": "code",
      "metadata": {
        "id": "R5gVxCaHgEEY",
        "colab_type": "code",
        "colab": {
          "base_uri": "https://localhost:8080/",
          "height": 51
        },
        "outputId": "73f1a573-5ee0-4cff-eaad-fe3c42ffe400"
      },
      "source": [
        "#circumstance of circle\n",
        "r=float(input(\"enter the radius\"))\n",
        "pi=3.14\n",
        "C=2*pi*r\n",
        "print(C)"
      ],
      "execution_count": 6,
      "outputs": [
        {
          "output_type": "stream",
          "text": [
            "enter the radius10\n",
            "62.800000000000004\n"
          ],
          "name": "stdout"
        }
      ]
    },
    {
      "cell_type": "code",
      "metadata": {
        "id": "O-MwCNpxgb2_",
        "colab_type": "code",
        "colab": {
          "base_uri": "https://localhost:8080/",
          "height": 51
        },
        "outputId": "f491fdc1-acab-4af9-e858-8024ea8c8f7a"
      },
      "source": [
        "#perimeter of square\n",
        "a=float(input(\"enter the value of radius\"))\n",
        "P=4*a\n",
        "print(P)"
      ],
      "execution_count": 7,
      "outputs": [
        {
          "output_type": "stream",
          "text": [
            "enter the value of radius3\n",
            "12.0\n"
          ],
          "name": "stdout"
        }
      ]
    },
    {
      "cell_type": "code",
      "metadata": {
        "id": "INRe2ZcBgxNQ",
        "colab_type": "code",
        "colab": {
          "base_uri": "https://localhost:8080/",
          "height": 85
        },
        "outputId": "b2ef6db9-ab4f-4099-afd3-e76b90efeef9"
      },
      "source": [
        "#simple interest\n",
        "P=float(input(\"enter the value of p\"))\n",
        "t=float(input(\"enter the value of t\"))\n",
        "r=float(input(\"enter the value of r\"))\n",
        "I=P*t*r\n",
        "print(I)"
      ],
      "execution_count": 8,
      "outputs": [
        {
          "output_type": "stream",
          "text": [
            "enter the value of p1000\n",
            "enter the value of t3\n",
            "enter the value of r0.06\n",
            "180.0\n"
          ],
          "name": "stdout"
        }
      ]
    },
    {
      "cell_type": "code",
      "metadata": {
        "id": "BLcOeZEjizCu",
        "colab_type": "code",
        "colab": {
          "base_uri": "https://localhost:8080/",
          "height": 68
        },
        "outputId": "11ed47f6-0b37-4643-f21b-5ddb4f7347d2"
      },
      "source": [
        "#swapping of two numbers\n",
        "x=int(input(\"enter x\"))\n",
        "y=int(input(\"enter y\"))\n",
        "temp=x\n",
        "x=y\n",
        "y=temp\n",
        "print(x,y)"
      ],
      "execution_count": 9,
      "outputs": [
        {
          "output_type": "stream",
          "text": [
            "enter x5\n",
            "enter y3\n",
            "3 5\n"
          ],
          "name": "stdout"
        }
      ]
    }
  ]
}